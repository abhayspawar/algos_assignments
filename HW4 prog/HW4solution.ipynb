{
 "cells": [
  {
   "cell_type": "markdown",
   "metadata": {},
   "source": [
    "# Generalizations of Max-Flow\n",
    "\n",
    "The purpose of this assignment is to learn about the min-cost flow problem, a generalization of max-flow, and to familiarize yourself with implementing and solving linear programs."
   ]
  },
  {
   "cell_type": "markdown",
   "metadata": {},
   "source": [
    "## Min-Cost Flow\n",
    "\n",
    "Recall that a flow network with demands consists of a directed graph $G = (V, E)$, where each edge $(i,j) \\in E$ has a positive integer capacity $c_{ij}$ and each node $i \\in V$ has an integer demand $d_i$. In a *min-cost flow* problem, each edge $(i,j) \\in E$ also has a cost (or weight) $w_{ij}$. (Note that this input generalizes the input to two important problems we discussed so far: in max flow, the edge weights were not important while in shortest paths, the edge capacities were not important.) \n",
    "\n",
    "Given a flow network with capacities and costs, the goal is to find a *feasible* flow $f: E \\rightarrow R^+$ --that is, a flow satisfying edge capacity constraints and node demands-- that minimizes the total cost of the flow. Explicitly, the problem can be formulated as a linear program."
   ]
  },
  {
   "cell_type": "markdown",
   "metadata": {},
   "source": [
    "### Question 1\n",
    "\n",
    "Answer Problem 1 in HW4-theoretical."
   ]
  },
  {
   "cell_type": "markdown",
   "metadata": {},
   "source": [
    "### Question 2\n",
    "\n",
    "To implement your reduction from Problem 1 in HW4-theoretical, you will work with some standard benchmark instances for min-cost flow found [here](http://elib.zib.de/pub/Packages/mp-testdata/mincost/gte/index.html). The format of the data is described in the [Info](http://elib.zib.de/pub/Packages/mp-testdata/mincost/gte/info) file. You are to read in the graph from the data file in a form that can be solved using NetworkX's `min_cost_flow` function. Note that the data sometimes lists multiple edges between the same nodes, but with different costs or capacities. In forming the graph, you need to implement your reduction from the previous question and form a `DiGraph` instance, because the `min_cost_flow` function cannot handle multi-edges, even though the package offers `MultiDiGraph` objects."
   ]
  },
  {
   "cell_type": "code",
   "execution_count": 1,
   "metadata": {
    "collapsed": false
   },
   "outputs": [],
   "source": [
    "import networkx as nx\n",
    "\n",
    "def create_graph(infile):\n",
    "    G=nx.Graph()\n",
    "    gfile=open(infile)\n",
    "    gfile.readline()\n",
    "    line=gfile.readline()\n",
    "    num_nodes=int(line.strip().split(' ')[2])\n",
    "    nodes=range(1,num_nodes+1)\n",
    "    for i in range(0,len(nodes)):\n",
    "        nodes[i]=str(nodes[i])\n",
    "\n",
    "    G.add_nodes_from(nodes)\n",
    "\n",
    "    line=gfile.readline()\n",
    "\n",
    "    while line.strip().split(' ')[0]=='n':\n",
    "        demand_node=line.strip().split(' ')[1]\n",
    "        G.node[demand_node]['demand']=int(line.strip().split(' ')[2])\n",
    "        line=gfile.readline()\n",
    "\n",
    "    edge_data=[]\n",
    "    while line.strip().split(' ')[0]!=\"\":\n",
    "        array=line.strip().split(' ')\n",
    "        node1=array[1]\n",
    "        node2=array[2]\n",
    "        cap=array[4]\n",
    "        cost=array[5]\n",
    "        edge_data.append([node1,node2,cap,cost,0])\n",
    "        line=gfile.readline()\n",
    "\n",
    "    G = nx.DiGraph(G)\n",
    "\n",
    "    for i in range(0,len(edge_data)):\n",
    "        if edge_data[i][4]==0:\n",
    "            node1=edge_data[i][0]\n",
    "            node2=edge_data[i][1]\n",
    "            same_edges=[edge_data[i]]\n",
    "            G.add_edge(node1,node2)\n",
    "\n",
    "            for j in range(i+1,len(edge_data)):\n",
    "                if edge_data[j][0]==node1 and edge_data[j][1]==node2:\n",
    "                    same_edges.append(edge_data[j])\n",
    "                    edge_data[j][4]=1\n",
    "            if len(same_edges)==1:\n",
    "                G.edge[node1][node2]['capacity']=int(same_edges[0][2])\n",
    "                G.edge[node1][node2]['weight']=int(same_edges[0][3])\n",
    "            else:\n",
    "                for k in range(0,len(same_edges)):\n",
    "                    if k!=0:\n",
    "                        G.add_edge(node1+'_'+node2+'_'+str(k),node2+'_'+node1+'_'+str(k))#adding edges\n",
    "                        G.edge[node1+'_'+node2+'_'+str(k)][node2+'_'+node1+'_'+str(k)]['capacity']=int(same_edges[k][2])\n",
    "                        G.edge[node1+'_'+node2+'_'+str(k)][node2+'_'+node1+'_'+str(k)]['weight']=int(same_edges[k][3])\n",
    "                    else:\n",
    "                        G.edge[node1][node2]['capacity']=int(same_edges[k][2])\n",
    "                        G.edge[node1][node2]['weight']=int(same_edges[k][3])\n",
    "                    if k!=len(same_edges)-1 and k!=0:\n",
    "                        G.add_edge(node1+'_'+node2+'_'+str(k),node1+'_'+node2+'_'+str(k+1))\n",
    "                        G.add_edge(node1+'_'+node2+'_'+str(k+1),node1+'_'+node2+'_'+str(k))\n",
    "                        G.add_edge(node2+'_'+node1+'_'+str(k),node2+'_'+node1+'_'+str(k+1))\n",
    "                        G.add_edge(node2+'_'+node1+'_'+str(k+1),node2+'_'+node1+'_'+str(k))\n",
    "                    elif k!=len(same_edges)-1 and k==0:\n",
    "                        G.add_edge(node1,node1+'_'+node2+'_'+str(k+1))\n",
    "                        G.add_edge(node1+'_'+node2+'_'+str(k+1),node1)\n",
    "                        G.add_edge(node2,node2+'_'+node1+'_'+str(k+1))\n",
    "                        G.add_edge(node2+'_'+node1+'_'+str(k+1),node2)\n",
    "    \n",
    "    return G\n",
    "    pass"
   ]
  },
  {
   "cell_type": "markdown",
   "metadata": {},
   "source": [
    "The following will check that your code outputs the expected min cost flow values on several test instances."
   ]
  },
  {
   "cell_type": "code",
   "execution_count": 2,
   "metadata": {
    "collapsed": false
   },
   "outputs": [
    {
     "name": "stdout",
     "output_type": "stream",
     "text": [
      "94643745216\n"
     ]
    }
   ],
   "source": [
    "G_60 = create_graph('gte_bad.60')\n",
    "#G_6830 = create_graph('gte_bad.6830')\n",
    "#G_176280 = create_graph('gte_bad.176280')\n",
    "print nx.min_cost_flow_cost(G_60)\n",
    "#print \"Correct value for _40 instance:\", nx.min_cost_flow_cost(G_40) == 52099553858\n",
    "#print \"Correct value for _6830 instance:\", nx.min_cost_flow_cost(G_6830) == 299390431788\n",
    "#print \"Correct value for _176280 instance:\", nx.min_cost_flow_cost(G_176280) == 510585093810"
   ]
  },
  {
   "cell_type": "markdown",
   "metadata": {},
   "source": [
    "## Linear Programming\n",
    "\n",
    "Instead of using special-purpose min-cost flow solvers, you will now formulate the problems as linear programs and use general-purpose LP solvers to find the solutions."
   ]
  },
  {
   "cell_type": "markdown",
   "metadata": {},
   "source": [
    "### Question 3\n",
    "\n",
    "Implement the following function to formulate the flow LP and return the optimal value (i.e., minimum cost over feasible flows)."
   ]
  },
  {
   "cell_type": "code",
   "execution_count": 3,
   "metadata": {
    "collapsed": false
   },
   "outputs": [],
   "source": [
    "import pulp\n",
    "\n",
    "def lp_flow_value(G):\n",
    "    prob = pulp.LpProblem(\"Min_cost_flow\",pulp.LpMinimize)\n",
    "    var1=[]\n",
    "    var2=[]\n",
    "    cap_dict1={}\n",
    "    cap_dict2={}\n",
    "    weight_dict1={}\n",
    "    weight_dict2={}\n",
    "\n",
    "    for i in range(0,len(G.edges())):\n",
    "        if G.edge[G.edges()[i][0]][G.edges()[i][1]].values()==[]:\n",
    "            var1.append(G.edges()[i][0]+'#'+G.edges()[i][1])\n",
    "        else:\n",
    "            var2.append(G.edges()[i][0]+'#'+G.edges()[i][1])\n",
    "            cap_dict2[G.edges()[i][0]+'#'+G.edges()[i][1]]=G.edge[G.edges()[i][0]][G.edges()[i][1]]['capacity']\n",
    "            weight_dict2[G.edges()[i][0]+'#'+G.edges()[i][1]]=G.edge[G.edges()[i][0]][G.edges()[i][1]]['weight']\n",
    "\n",
    "    var_final=var1+var2\n",
    "    variables1 = pulp.LpVariable.dicts(\"Flows\",var1,0,None,pulp.LpInteger)\n",
    "    variables2={}\n",
    "    for i in range(0,len(var2)):\n",
    "        variables2[var2[i]]=pulp.LpVariable(\"flows_\"+var2[i],0,cap_dict2[var2[i]],pulp.LpInteger)\n",
    "\n",
    "    variables_final=variables1\n",
    "    variables_final.update(variables2)\n",
    "\n",
    "    prob += pulp.lpSum([weight_dict2[i]*variables2[i] for i in var2])\n",
    "    demand_dict={}\n",
    "    for nodes in G.nodes():\n",
    "        if G.node[nodes].values()!=[]:\n",
    "            demand_dict[nodes]=G.node[nodes]['demand']\n",
    "        else:\n",
    "            demand_dict[nodes]=0\n",
    "\n",
    "    coef_dict={}\n",
    "    for nodes in G.nodes():\n",
    "        for i in var_final:\n",
    "            coef_dict[i]=0\n",
    "        for j in range(0,len(G.out_edges(nodes))):\n",
    "            coef_dict[G.out_edges(nodes)[j][0]+'#'+G.out_edges(nodes)[j][1]]=-1\n",
    "        for j in range(0,len(G.in_edges(nodes))):\n",
    "            coef_dict[G.in_edges(nodes)[j][0]+'#'+G.in_edges(nodes)[j][1]]=1\n",
    "        prob += pulp.lpSum([coef_dict[i]*variables_final[i] for i in var_final])==demand_dict[nodes]\n",
    "\n",
    "    prob.solve()\n",
    "    return pulp.value(prob.objective)\n",
    "    pass"
   ]
  },
  {
   "cell_type": "markdown",
   "metadata": {},
   "source": [
    "The following will check that the LP finds the same optimal values as previously."
   ]
  },
  {
   "cell_type": "code",
   "execution_count": 5,
   "metadata": {
    "collapsed": false
   },
   "outputs": [
    {
     "name": "stdout",
     "output_type": "stream",
     "text": [
      "94643745216.0\n"
     ]
    }
   ],
   "source": [
    "print lp_flow_value(G_60)\n",
    "#print \"Correct value for _40 instance:\", lp_flow_value(G_40) == 52099553858\n",
    "#print \"Correct value for _6830 instance:\", lp_flow_value(G_6830) == 299390431788\n",
    "#print \"Correct value for _176280 instance:\", lp_flow_value(G_176280) == 510585093810"
   ]
  },
  {
   "cell_type": "code",
   "execution_count": null,
   "metadata": {
    "collapsed": true
   },
   "outputs": [],
   "source": []
  }
 ],
 "metadata": {
  "anaconda-cloud": {},
  "kernelspec": {
   "display_name": "Python [default]",
   "language": "python",
   "name": "python2"
  },
  "language_info": {
   "codemirror_mode": {
    "name": "ipython",
    "version": 2
   },
   "file_extension": ".py",
   "mimetype": "text/x-python",
   "name": "python",
   "nbconvert_exporter": "python",
   "pygments_lexer": "ipython2",
   "version": "2.7.12"
  }
 },
 "nbformat": 4,
 "nbformat_minor": 0
}
