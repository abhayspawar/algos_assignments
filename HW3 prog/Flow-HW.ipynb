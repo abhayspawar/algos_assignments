{
 "cells": [
  {
   "cell_type": "markdown",
   "metadata": {},
   "source": [
    "# Max Flow Applications\n",
    "\n",
    "The purpose of this assignment is to investigate applications of finding a Max Flow. The problem asks you to design and implement an algorithm for shipping a material between nodes with different supply and demand requirements.\n",
    "\n",
    "* Please write code *only* in the bodies of the two functions, that is, following the TODO comments.\n",
    "* Be careful not to use varibles defined outside of the functions.\n",
    "* Breaking the two above rules may lead to 0 grades."
   ]
  },
  {
   "cell_type": "markdown",
   "metadata": {},
   "source": [
    "## Movie distribution\n",
    "\n",
    "First solve Problem 3 from HW3-theoretical. \n",
    "\n",
    "Now suppose a movie distributor would like to ship a copy of a film from CA to every other state. There are therefore 48 units to ship out of CA, and each other state receives 1 unit. \n",
    "\n",
    "The dataset contiguous-usa.dat lists the adjacent states in the US. Each line lists two adjacent states; thus AK and HI are omitted, but DC is included in the data. The following code reads in the graph of US states."
   ]
  },
  {
   "cell_type": "code",
   "execution_count": 42,
   "metadata": {
    "collapsed": false
   },
   "outputs": [
    {
     "name": "stdout",
     "output_type": "stream",
     "text": [
      "Once deleted, variables cannot be recovered. Proceed (y/[n])? y\n"
     ]
    }
   ],
   "source": [
    "%reset\n",
    "\n",
    "import networkx as nx\n",
    "G = nx.Graph()\n",
    "\n",
    "usa = open('contiguous-usa.dat')\n",
    "for line in usa:\n",
    "    s1, s2 = line.strip().split()\n",
    "    G.add_edge(s1, s2)"
   ]
  },
  {
   "cell_type": "code",
   "execution_count": 66,
   "metadata": {
    "collapsed": false
   },
   "outputs": [
    {
     "name": "stdout",
     "output_type": "stream",
     "text": [
      "Once deleted, variables cannot be recovered. Proceed (y/[n])? y\n"
     ]
    }
   ],
   "source": [
    "%reset\n",
    "\n",
    "import networkx as nx\n"
   ]
  },
  {
   "cell_type": "markdown",
   "metadata": {
    "collapsed": false
   },
   "source": [
    "We now encode the demands into the graph."
   ]
  },
  {
   "cell_type": "code",
   "execution_count": 5,
   "metadata": {
    "collapsed": false
   },
   "outputs": [
    {
     "name": "stdout",
     "output_type": "stream",
     "text": [
      "['AL FL\\n', 'AL GA\\n', 'AL MS\\n', 'AL TN\\n', 'AR LA\\n', 'AR MO\\n', 'AR MS\\n', 'AR OK\\n', 'AR TN\\n', 'AR TX\\n', 'AZ CA\\n', 'AZ NM\\n', 'AZ NV\\n', 'AZ UT\\n', 'CA NV\\n', 'CA OR\\n', 'CO KS\\n', 'CO NE\\n', 'CO NM\\n', 'CO OK\\n', 'CO UT\\n', 'CO WY\\n', 'CT MA\\n', 'CT NY\\n', 'CT RI\\n', 'DC MD\\n', 'DC VA\\n', 'DE MD\\n', 'DE NJ\\n', 'DE PA\\n', 'FL GA\\n', 'GA NC\\n', 'GA SC\\n', 'GA TN\\n', 'IA IL\\n', 'IA MN\\n', 'IA MO\\n', 'IA NE\\n', 'IA SD\\n', 'IA WI\\n', 'ID MT\\n', 'ID NV\\n', 'ID OR\\n', 'ID UT\\n', 'ID WA\\n', 'ID WY\\n', 'IL IN\\n', 'IL KY\\n', 'IL MO\\n', 'IL WI\\n', 'IN KY\\n', 'IN MI\\n', 'IN OH\\n', 'KS MO\\n', 'KS NE\\n', 'KS OK\\n', 'KY MO\\n', 'KY OH\\n', 'KY TN\\n', 'KY VA\\n', 'KY WV\\n', 'LA MS\\n', 'LA TX\\n', 'MA NH\\n', 'MA NY\\n', 'MA RI\\n', 'MA VT\\n', 'MD PA\\n', 'MD VA\\n', 'MD WV\\n', 'ME NH\\n', 'MI OH\\n', 'MI WI\\n', 'MN ND\\n', 'MN SD\\n', 'MN WI\\n', 'MO NE\\n', 'MO OK\\n', 'MO TN\\n', 'MS TN\\n', 'MT ND\\n', 'MT SD\\n', 'MT WY\\n', 'NC SC\\n', 'NC TN\\n', 'NC VA\\n', 'ND SD\\n', 'NE SD\\n', 'NE WY\\n', 'NH VT\\n', 'NJ NY\\n', 'NJ PA\\n', 'NM OK\\n', 'NM TX\\n', 'NV OR\\n', 'NV UT\\n', 'NY PA\\n', 'NY VT\\n', 'OH PA\\n', 'OH WV\\n', 'OK TX\\n', 'OR WA\\n', 'PA WV\\n', 'SD WY\\n', 'TN VA\\n', 'UT WY\\n', 'VA WV\\n']\n"
     ]
    }
   ],
   "source": [
    "usa = open('contiguous-usa.dat')\n",
    "\n",
    "print usa.readlines()"
   ]
  },
  {
   "cell_type": "code",
   "execution_count": 10,
   "metadata": {
    "collapsed": true
   },
   "outputs": [],
   "source": [
    "for state in G.nodes():\n",
    "    if state != 'CA':\n",
    "        G.node[state]['demand'] = 1\n",
    "G.node['CA']['demand'] = -48"
   ]
  },
  {
   "cell_type": "markdown",
   "metadata": {
    "collapsed": false
   },
   "source": [
    "We will assign a uniform capacity of 16 to each edge. Since CA has only three adjacent states, this is the smallest possible uniform capacity that allows one to ship all 48 units out of CA. As we have created an undirected graph, and flows have directions, we first convert the graph to a directed graph."
   ]
  },
  {
   "cell_type": "code",
   "execution_count": 11,
   "metadata": {
    "collapsed": false
   },
   "outputs": [],
   "source": [
    "G = nx.DiGraph(G)\n",
    "uniform_capacity = 16\n",
    "for (s1, s2) in G.edges():\n",
    "    G.edge[s1][s2]['capacity'] = uniform_capacity"
   ]
  },
  {
   "cell_type": "markdown",
   "metadata": {},
   "source": [
    "Complete the following function to implement your algorithm to find a flow with demands. Your function should work correctly for any input, not just the movie instance considered here. As always, you are encouraged to define auxiliary functions as needed for clarity."
   ]
  },
  {
   "cell_type": "code",
   "execution_count": 67,
   "metadata": {
    "collapsed": false
   },
   "outputs": [],
   "source": [
    "def flow_with_demands(graph):\n",
    "\n",
    "    #Calculating the total flow from sources and sinks respectively\n",
    "    flow_value_s=0\n",
    "    flow_value_t=0\n",
    "\n",
    "    for nodes in graph.nodes():\n",
    "        if graph.node[nodes]['demand']<0:\n",
    "            flow_value_s=flow_value_s+graph.node[nodes]['demand']\n",
    "        elif graph.node[nodes]['demand']>0:\n",
    "            flow_value_t=flow_value_t+graph.node[nodes]['demand']\n",
    "\n",
    "    #Condition that flow from source should be same as that into the sink\n",
    "    if flow_value_s!=-flow_value_t:\n",
    "        raise Exception('NetworkXUnfeasible')\n",
    "\n",
    "    #Adding meta source and meta sink. Adding the edge capacity as the demand of node they are connected to\n",
    "    for state in graph.nodes():\n",
    "        if graph.node[state]['demand']<0:\n",
    "            graph.add_edge('S',state)\n",
    "            graph.edge['S'][state]['capacity'] = -graph.node[state]['demand']\n",
    "        if graph.node[state]['demand']>0:\n",
    "            graph.add_edge(state,'T')\n",
    "            graph.edge[state]['T']['capacity'] = graph.node[state]['demand']\n",
    "\n",
    "    #adding default demand value for S and T so that all nodes have demand paramete(Not really required)\n",
    "    graph.node['S']['demand']=0\n",
    "    graph.node['T']['demand']=0\n",
    "\n",
    "    #Calculating maxflow\n",
    "    flow_value, flow = nx.maximum_flow(graph, 'S', 'T')\n",
    "    \n",
    "    #max flow in the network should be equal to desired flow into sink or desired flow from source\n",
    "    if flow_value!=flow_value_t:\n",
    "        raise Exception('NetworkXUnfeasible')\n",
    "    \n",
    "    #deleting S and T from the flow dictionary\n",
    "    del flow['S']\n",
    "    del flow['T']\n",
    "    for k in flow.keys():\n",
    "        for k1 in flow[k].keys():\n",
    "            if k1=='T':\n",
    "                del flow[k][k1]\n",
    "    \n",
    "    #removing nodes S and T from G\n",
    "    graph.remove_node('S')\n",
    "    graph.remove_node('T')\n",
    "    return flow"
   ]
  },
  {
   "cell_type": "markdown",
   "metadata": {},
   "source": [
    "To verify that your solution is correct, implement a function that computes the total flow into each node (which will be negative for supply nodes)."
   ]
  },
  {
   "cell_type": "code",
   "execution_count": 68,
   "metadata": {
    "collapsed": false
   },
   "outputs": [],
   "source": [
    "def divergence(flow):\n",
    "    \n",
    "    #Empty flows dict\n",
    "    flows={}\n",
    "    \n",
    "    #Calculating flow into and out of a node and hence the total flow through the node\n",
    "    for k in flow.keys():\n",
    "        outflow=0\n",
    "        for k1 in flow[k].keys():\n",
    "            outflow=outflow+flow[k][k1]\n",
    "        inflow=0\n",
    "        for j in flow.keys():\n",
    "            if j!=k:\n",
    "                for k1 in flow[j].keys():\n",
    "                    if k1==k:\n",
    "                        inflow=inflow+flow[j][k]\n",
    "        flows[k]=inflow-outflow                \n",
    "\n",
    "    return flows"
   ]
  },
  {
   "cell_type": "markdown",
   "metadata": {},
   "source": [
    "The following code performs a sanity check on your function (but does not completely confirm correctness)."
   ]
  },
  {
   "cell_type": "code",
   "execution_count": 14,
   "metadata": {
    "collapsed": false
   },
   "outputs": [
    {
     "name": "stdout",
     "output_type": "stream",
     "text": [
      "Flow satisfies all demands: True\n"
     ]
    }
   ],
   "source": [
    "flow = flow_with_demands(G)\n",
    "div = divergence(flow)\n",
    "print \"Flow satisfies all demands:\", all(div[n] == G.node[n]['demand'] for n in G.nodes())"
   ]
  },
  {
   "cell_type": "code",
   "execution_count": 74,
   "metadata": {
    "collapsed": false
   },
   "outputs": [
    {
     "ename": "KeyError",
     "evalue": "'S'",
     "output_type": "error",
     "traceback": [
      "\u001b[0;31m---------------------------------------------------------------------------\u001b[0m",
      "\u001b[0;31mKeyError\u001b[0m                                  Traceback (most recent call last)",
      "\u001b[0;32m<ipython-input-74-36169a42236d>\u001b[0m in \u001b[0;36m<module>\u001b[0;34m()\u001b[0m\n\u001b[1;32m     16\u001b[0m     \u001b[1;31m#    print graph1.node[nodes]['demand']\u001b[0m\u001b[1;33m\u001b[0m\u001b[1;33m\u001b[0m\u001b[0m\n\u001b[1;32m     17\u001b[0m \u001b[1;31m#print graph1.node[\"A\"][\"demand\"]\u001b[0m\u001b[1;33m\u001b[0m\u001b[1;33m\u001b[0m\u001b[0m\n\u001b[0;32m---> 18\u001b[0;31m \u001b[0mflow_with_demands\u001b[0m\u001b[1;33m(\u001b[0m\u001b[0mgraph1\u001b[0m\u001b[1;33m)\u001b[0m\u001b[1;33m\u001b[0m\u001b[0m\n\u001b[0m\u001b[1;32m     19\u001b[0m \u001b[1;31m#graph1.nodes()\u001b[0m\u001b[1;33m\u001b[0m\u001b[1;33m\u001b[0m\u001b[0m\n",
      "\u001b[0;32m<ipython-input-67-f29134b84609>\u001b[0m in \u001b[0;36mflow_with_demands\u001b[0;34m(graph)\u001b[0m\n\u001b[1;32m     25\u001b[0m \u001b[1;33m\u001b[0m\u001b[0m\n\u001b[1;32m     26\u001b[0m     \u001b[1;31m#adding default demand value for S and T so that all nodes have demand paramete(Not really required)\u001b[0m\u001b[1;33m\u001b[0m\u001b[1;33m\u001b[0m\u001b[0m\n\u001b[0;32m---> 27\u001b[0;31m     \u001b[0mgraph\u001b[0m\u001b[1;33m.\u001b[0m\u001b[0mnode\u001b[0m\u001b[1;33m[\u001b[0m\u001b[1;34m'S'\u001b[0m\u001b[1;33m]\u001b[0m\u001b[1;33m[\u001b[0m\u001b[1;34m'demand'\u001b[0m\u001b[1;33m]\u001b[0m\u001b[1;33m=\u001b[0m\u001b[1;36m0\u001b[0m\u001b[1;33m\u001b[0m\u001b[0m\n\u001b[0m\u001b[1;32m     28\u001b[0m     \u001b[0mgraph\u001b[0m\u001b[1;33m.\u001b[0m\u001b[0mnode\u001b[0m\u001b[1;33m[\u001b[0m\u001b[1;34m'T'\u001b[0m\u001b[1;33m]\u001b[0m\u001b[1;33m[\u001b[0m\u001b[1;34m'demand'\u001b[0m\u001b[1;33m]\u001b[0m\u001b[1;33m=\u001b[0m\u001b[1;36m0\u001b[0m\u001b[1;33m\u001b[0m\u001b[0m\n\u001b[1;32m     29\u001b[0m \u001b[1;33m\u001b[0m\u001b[0m\n",
      "\u001b[0;31mKeyError\u001b[0m: 'S'"
     ]
    }
   ],
   "source": [
    "#del graph1\n",
    "graph1=nx.DiGraph()\n",
    "graph1.add_node(\"A\")\n",
    "#graph1.add_node(\"B\")\n",
    "#graph1.add_node(\"C\")\n",
    "#graph1.add_edge(\"A\",\"C\")\n",
    "#graph1.add_edge(\"A\",\"B\")\n",
    "#graph1.edge[\"A\"][\"B\"]['capacity']=1\n",
    "graph1.node['A']['demand'] = 0\n",
    "#graph1.node['B']['demand'] = -1\n",
    "#graph1.node['C']['demand'] = 2\n",
    "\n",
    "#for nodes in graph1.nodes():\n",
    "#    print nodes\n",
    "    #if graph1.node[nodes]['demand']<0:\n",
    "    #    print graph1.node[nodes]['demand']\n",
    "#print graph1.node[\"A\"][\"demand\"]\n",
    "flow_with_demands(graph1)\n",
    "#graph1.nodes()"
   ]
  }
 ],
 "metadata": {
  "anaconda-cloud": {},
  "kernelspec": {
   "display_name": "Python [default]",
   "language": "python",
   "name": "python2"
  },
  "language_info": {
   "codemirror_mode": {
    "name": "ipython",
    "version": 2
   },
   "file_extension": ".py",
   "mimetype": "text/x-python",
   "name": "python",
   "nbconvert_exporter": "python",
   "pygments_lexer": "ipython2",
   "version": "2.7.12"
  }
 },
 "nbformat": 4,
 "nbformat_minor": 0
}
