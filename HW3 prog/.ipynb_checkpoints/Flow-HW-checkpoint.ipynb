{
 "cells": [
  {
   "cell_type": "markdown",
   "metadata": {},
   "source": [
    "# Max Flow Applications\n",
    "\n",
    "The purpose of this assignment is to investigate applications of finding a Max Flow. The problem asks you to design and implement an algorithm for shipping a material between nodes with different supply and demand requirements.\n",
    "\n",
    "* Please write code *only* in the bodies of the two functions, that is, following the TODO comments.\n",
    "* Be careful not to use varibles defined outside of the functions.\n",
    "* Breaking the two above rules may lead to 0 grades."
   ]
  },
  {
   "cell_type": "markdown",
   "metadata": {},
   "source": [
    "## Movie distribution\n",
    "\n",
    "First solve Problem 3 from HW3-theoretical. \n",
    "\n",
    "Now suppose a movie distributor would like to ship a copy of a film from CA to every other state. There are therefore 48 units to ship out of CA, and each other state receives 1 unit. \n",
    "\n",
    "The dataset contiguous-usa.dat lists the adjacent states in the US. Each line lists two adjacent states; thus AK and HI are omitted, but DC is included in the data. The following code reads in the graph of US states."
   ]
  },
  {
   "cell_type": "code",
   "execution_count": 225,
   "metadata": {
    "collapsed": false
   },
   "outputs": [
    {
     "name": "stdout",
     "output_type": "stream",
     "text": [
      "Once deleted, variables cannot be recovered. Proceed (y/[n])? y\n"
     ]
    }
   ],
   "source": [
    "import networkx as nx\n",
    "G = nx.Graph()\n",
    "\n",
    "usa = open('contiguous-usa.dat')\n",
    "for line in usa:\n",
    "    s1, s2 = line.strip().split()\n",
    "    G.add_edge(s1, s2)"
   ]
  },
  {
   "cell_type": "markdown",
   "metadata": {
    "collapsed": false
   },
   "source": [
    "We now encode the demands into the graph."
   ]
  },
  {
   "cell_type": "code",
   "execution_count": 226,
   "metadata": {
    "collapsed": true
   },
   "outputs": [],
   "source": [
    "for state in G.nodes():\n",
    "    if state != 'CA':\n",
    "        G.node[state]['demand'] = 1\n",
    "G.node['CA']['demand'] = -48"
   ]
  },
  {
   "cell_type": "markdown",
   "metadata": {
    "collapsed": false
   },
   "source": [
    "We will assign a uniform capacity of 16 to each edge. Since CA has only three adjacent states, this is the smallest possible uniform capacity that allows one to ship all 48 units out of CA. As we have created an undirected graph, and flows have directions, we first convert the graph to a directed graph."
   ]
  },
  {
   "cell_type": "code",
   "execution_count": 227,
   "metadata": {
    "collapsed": false
   },
   "outputs": [],
   "source": [
    "G = nx.DiGraph(G)\n",
    "uniform_capacity = 16\n",
    "for (s1, s2) in G.edges():\n",
    "    G.edge[s1][s2]['capacity'] = uniform_capacity"
   ]
  },
  {
   "cell_type": "markdown",
   "metadata": {},
   "source": [
    "Complete the following function to implement your algorithm to find a flow with demands. Your function should work correctly for any input, not just the movie instance considered here. As always, you are encouraged to define auxiliary functions as needed for clarity."
   ]
  },
  {
   "cell_type": "code",
   "execution_count": 228,
   "metadata": {
    "collapsed": false
   },
   "outputs": [],
   "source": [
    "def flow_with_demands(graph):\n",
    "\n",
    "    #Calculating the total flow from sources and sinks respectively\n",
    "    flow_value_s=0\n",
    "    flow_value_t=0\n",
    "\n",
    "    for nodes in graph.nodes():\n",
    "        if graph.node[nodes]['demand']<0:\n",
    "            flow_value_s=flow_value_s+graph.node[nodes]['demand']\n",
    "        elif graph.node[nodes]['demand']>0:\n",
    "            flow_value_t=flow_value_t+graph.node[nodes]['demand']\n",
    "\n",
    "    #Condition that flow from source should be same as that into the sink\n",
    "    if flow_value_s!=-flow_value_t:\n",
    "        raise Exception('NetworkXUnfeasible')\n",
    "\n",
    "    #Adding meta source and meta sink. Adding the edge capacity as the demand of node they are connected to\n",
    "    for state in graph.nodes():\n",
    "        if graph.node[state]['demand']<0:\n",
    "            graph.add_edge('S',state)\n",
    "            graph.edge['S'][state]['capacity'] = -graph.node[state]['demand']\n",
    "        if graph.node[state]['demand']>0:\n",
    "            graph.add_edge(state,'T')\n",
    "            graph.edge[state]['T']['capacity'] = graph.node[state]['demand']\n",
    "\n",
    "    #adding default demand value for S and T so that all nodes have demand paramete(Not really required)\n",
    "    graph.node['S']['demand']=0\n",
    "    graph.node['T']['demand']=0\n",
    "\n",
    "    #Calculating maxflow\n",
    "    flow_value, flow = nx.maximum_flow(graph, 'S', 'T')\n",
    "    \n",
    "    #max flow in the network should be equal to desired flow into sink or desired flow from source\n",
    "    if flow_value!=flow_value_t:\n",
    "        raise Exception('NetworkXUnfeasible')\n",
    "    \n",
    "    #deleting S and T from the flow dictionary\n",
    "    del flow['S']\n",
    "    del flow['T']\n",
    "    for k in flow.keys():\n",
    "        for k1 in flow[k].keys():\n",
    "            if k1=='T':\n",
    "                del flow[k][k1]\n",
    "    \n",
    "    #removing nodes S and T from G\n",
    "    graph.remove_node('S')\n",
    "    graph.remove_node('T')\n",
    "    return flow"
   ]
  },
  {
   "cell_type": "markdown",
   "metadata": {},
   "source": [
    "To verify that your solution is correct, implement a function that computes the total flow into each node (which will be negative for supply nodes)."
   ]
  },
  {
   "cell_type": "code",
   "execution_count": 229,
   "metadata": {
    "collapsed": false
   },
   "outputs": [],
   "source": [
    "def divergence(flow):\n",
    "    \n",
    "    #Empty flows dict\n",
    "    flows={}\n",
    "    \n",
    "    #Calculating flow into and out of a node and hence the total flow through the node\n",
    "    for k in flow.keys():\n",
    "        outflow=0\n",
    "        for k1 in flow[k].keys():\n",
    "            outflow=outflow+flow[k][k1]\n",
    "        inflow=0\n",
    "        for j in flow.keys():\n",
    "            if j!=k:\n",
    "                for k1 in flow[j].keys():\n",
    "                    if k1==k:\n",
    "                        inflow=inflow+flow[j][k]\n",
    "        flows[k]=inflow-outflow                \n",
    "\n",
    "    return flows"
   ]
  },
  {
   "cell_type": "markdown",
   "metadata": {},
   "source": [
    "The following code performs a sanity check on your function (but does not completely confirm correctness)."
   ]
  },
  {
   "cell_type": "code",
   "execution_count": 230,
   "metadata": {
    "collapsed": false
   },
   "outputs": [
    {
     "name": "stdout",
     "output_type": "stream",
     "text": [
      "Flow satisfies all demands: True\n"
     ]
    }
   ],
   "source": [
    "flow = flow_with_demands(G)\n",
    "div = divergence(flow)\n",
    "print \"Flow satisfies all demands:\", all(div[n] == G.node[n]['demand'] for n in G.nodes())"
   ]
  },
  {
   "cell_type": "code",
   "execution_count": null,
   "metadata": {
    "collapsed": true
   },
   "outputs": [],
   "source": [
    "\n",
    "\n",
    "#print flow['KY']['T']\n",
    "#MF=maximum_flow(G, S, T, capacity='capacity')\n",
    "#print G.edge['S']['CA']['capacity']\n",
    "#print G.edge['WA']['T']['capacity']\n",
    "#print G.edge['WA']['OR']['capacity']\n",
    "#print G.edge['DE']['T']['capacity']\n",
    "#print G.edge['CA']['S']['capacity']\n",
    "\n",
    "#G.add_edge('S','CA')\n",
    "#G.edge[s1][s2]['capacity'] = uniform_capacity\n",
    "#for state in G.nodes():\n",
    "#    if state != 'CA' and state != 'S' and state!='T':\n",
    "#        G.add_edge(state,'T')\n",
    "\n",
    "        \n",
    "#print G.nodes()\n",
    "#print G.edges()\n",
    "#print G.number_of_nodes()\n",
    "#print G.number_of_edges()\n",
    "\n",
    "#from nx.algorithms.flow import ford_fulkerson\n",
    "#R = nx.maximum_flow(G, 'CA', 'NY')\n",
    "#flow_dict = R.graph['flow_dict']\n",
    "\n",
    "#code to check the flows in nodes \n",
    "\n",
    "    \n",
    "flow_value_s=0\n",
    "flow_value_t=0\n",
    "\n",
    "for nodes in G.nodes():\n",
    "    if G.node[nodes]['demand']<0:\n",
    "        flow_value_s=flow_value_s+G.node[nodes]['demand']\n",
    "    elif G.node[nodes]['demand']>0:\n",
    "        flow_value_t=flow_value_t+G.node[nodes]['demand']\n",
    "\n",
    "if flow_value_s!=-flow_value_t:\n",
    "    raise Exception('NetworkXUnfeasible')\n",
    "for state in G.nodes():\n",
    "    if G.node[state]['demand']<0:\n",
    "        G.add_edge('S',state)\n",
    "        G.edge['S'][state]['capacity'] = -G.node[state]['demand']\n",
    "    if G.node[state]['demand']>0:\n",
    "        G.add_edge(state,'T')\n",
    "        G.edge[state]['T']['capacity'] = G.node[state]['demand']\n",
    "\n",
    "G.node['S']['demand']=0\n",
    "G.node['T']['demand']=0\n",
    "flow_value, flow = nx.maximum_flow(G, 'S', 'T')\n",
    "\n",
    "if flow_value!=flow_value_t:\n",
    "    raise Exception('NetworkXUnfeasible')\n",
    "\n",
    "for nodes in G.nodes():\n",
    "    flow_node=0\n",
    "    for edges in G.edges():\n",
    "        if edges[0]==nodes and edges[1]!='T':\n",
    "            flow_node=flow_node+flow[nodes][edges[1]]\n",
    "        elif edges[1]==nodes and edges[0]!='S':\n",
    "            flow_node=flow_node-flow[edges[0]][edges[1]]\n",
    "    print nodes\n",
    "    print flow_node\n",
    "\n",
    "#test case testing \n",
    "H = nx.Graph()\n",
    "H.add_nodes_from(['1','2','3','4'])\n",
    "H.add_edges_from([('1','2'),('3','4')])\n",
    "H.node['1']['demand']=4\n",
    "H.node['2']['demand']=-4\n",
    "H.node['3']['demand']=4\n",
    "H.node['4']['demand']=-4\n",
    "\n",
    "H = nx.DiGraph(H)\n",
    "uniform_capacity = 1\n",
    "for (s1, s2) in H.edges():\n",
    "    H.edge[s1][s2]['capacity'] = uniform_capacity\n",
    "print H.nodes()\n",
    "\n",
    "print H.nodes()\n",
    "\n",
    "flow = flow_with_demands(H)\n",
    "print H.nodes()\n",
    "\n",
    "div = divergence(flow)\n",
    "print div\n",
    "print \"Flow satisfies all demands:\", all(div[n] == H.node[n]['demand'] for n in H.nodes())"
   ]
  }
 ],
 "metadata": {
  "kernelspec": {
   "display_name": "Python [default]",
   "language": "python",
   "name": "python2"
  },
  "language_info": {
   "codemirror_mode": {
    "name": "ipython",
    "version": 2
   },
   "file_extension": ".py",
   "mimetype": "text/x-python",
   "name": "python",
   "nbconvert_exporter": "python",
   "pygments_lexer": "ipython2",
   "version": "2.7.12"
  }
 },
 "nbformat": 4,
 "nbformat_minor": 0
}
